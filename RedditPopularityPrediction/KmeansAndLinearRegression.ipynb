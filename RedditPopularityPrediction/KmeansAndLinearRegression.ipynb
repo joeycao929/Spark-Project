{
 "cells": [
  {
   "cell_type": "code",
   "execution_count": 12,
   "metadata": {},
   "outputs": [],
   "source": [
    "from pyspark import SparkContext, SparkConf\n",
    "from pyspark.sql import Row, SQLContext, Window\n",
    "from pyspark import SparkConf, SparkContext, SQLContext\n",
    "from pyspark.sql import SparkSession\n",
    "from pyspark.sql.types import StringType\n",
    "from pyspark.sql.types import FloatType, IntegerType, ArrayType, BooleanType\n",
    "from pyspark.sql.types import DoubleType\n",
    "from pyspark.sql.functions import udf\n",
    "from pyspark.sql import functions as F \n",
    "from pyspark.sql.functions import explode, col, udf, desc, mean, stddev, log, log10, when\n",
    "from pyspark.sql.types import StructType\n",
    "from pyspark.sql.types import StructField\n",
    "from pyspark.sql.functions import lit\n",
    "from pyspark.rdd import RDD\n",
    "from pyspark.sql.functions import isnull, isnan\n",
    "from pyspark.ml.feature import OneHotEncoder, StringIndexer, VectorIndexer\n",
    "import json\n",
    "#coding:utf-8\n",
    "'%matplotlib inline' \n",
    "import numpy as np\n",
    "import matplotlib.pyplot as plt\n",
    "import seaborn as sns\n",
    "from pyspark.ml.feature import RegexTokenizer, StopWordsRemover, CountVectorizer, Word2Vec, HashingTF, IDF, VectorAssembler\n",
    "from pyspark.ml.regression import LinearRegression\n",
    "from pyspark.ml import Pipeline\n",
    "\n",
    "from pyspark.ml.classification import LogisticRegression, OneVsRest\n",
    "from pyspark.ml.evaluation import MulticlassClassificationEvaluator\n",
    "from pyspark.ml.classification import DecisionTreeClassifier\n",
    "from pyspark.ml.evaluation import RegressionEvaluator"
   ]
  },
  {
   "cell_type": "code",
   "execution_count": 13,
   "metadata": {},
   "outputs": [
    {
     "name": "stderr",
     "output_type": "stream",
     "text": [
      "[nltk_data] Downloading package stopwords to\n",
      "[nltk_data]     /Users/jojocao/nltk_data...\n",
      "[nltk_data]   Package stopwords is already up-to-date!\n"
     ]
    }
   ],
   "source": [
    "import nltk\n",
    "nltk.download(\"stopwords\")\n",
    "from nltk.corpus import stopwords"
   ]
  },
  {
   "cell_type": "code",
   "execution_count": 3,
   "metadata": {},
   "outputs": [],
   "source": [
    "conf = SparkConf().setAppName(\"Project\").setMaster(\"local[5]\") #Initialize spark context using 4 local cores as workers\n",
    "sc = SparkContext(conf=conf)  \n",
    "spark = SparkSession(sc)"
   ]
  },
  {
   "cell_type": "markdown",
   "metadata": {},
   "source": [
    "### Import data"
   ]
  },
  {
   "cell_type": "code",
   "execution_count": 14,
   "metadata": {},
   "outputs": [],
   "source": [
    "train = spark.read.format('parquet').load('train.parquet')\n",
    "\n",
    "test = spark.read.format('parquet').load('test.parquet')\n",
    "\n",
    "valid = spark.read.format('parquet').load('valid.parquet')"
   ]
  },
  {
   "cell_type": "code",
   "execution_count": 7,
   "metadata": {},
   "outputs": [],
   "source": [
    "vec_col = [col for col in train.columns if 'Vec' in col]\n",
    "# input_feature = vec_col + ['num_comments', 'bool_mean','cate_mean']\n",
    "# assembler = VectorAssembler(inputCols=input_feature, outputCol='features')\n",
    "# train_df = assembler.transform(train)\n",
    "# test_df = assembler.transform(test)\n",
    "# valid_df = assembler.transform(valid)"
   ]
  },
  {
   "cell_type": "code",
   "execution_count": 15,
   "metadata": {},
   "outputs": [],
   "source": [
    "def trans_score(s):\n",
    "    if s == 0:\n",
    "        return 1\n",
    "    elif s>0 and s<10:\n",
    "        return 2\n",
    "    elif s>=10 and s<=100:\n",
    "        return 3\n",
    "    else:\n",
    "        return 4\n",
    "udf_score = udf(trans_score, IntegerType())"
   ]
  },
  {
   "cell_type": "markdown",
   "metadata": {},
   "source": [
    "### Linear Regression"
   ]
  },
  {
   "cell_type": "code",
   "execution_count": 141,
   "metadata": {},
   "outputs": [],
   "source": [
    "input_feature = vec_col + ['comments_norm', 'title_tfidf', 'cate_mean','bool_mean']\n",
    "assembler = VectorAssembler(inputCols=input_feature, outputCol='features')\n",
    "train_ = assembler.transform(train)\n",
    "test_ = assembler.transform(test)\n",
    "valid_ = assembler.transform(valid)"
   ]
  },
  {
   "cell_type": "code",
   "execution_count": 142,
   "metadata": {},
   "outputs": [],
   "source": [
    "train_ = train_.withColumn('label', udf_score('score'))\n",
    "test_ = test_.withColumn('label', udf_score('score'))\n",
    "valid_ = valid_.withColumn('label', udf_score('score'))"
   ]
  },
  {
   "cell_type": "code",
   "execution_count": 143,
   "metadata": {},
   "outputs": [],
   "source": [
    "lr = LinearRegression(featuresCol = \"features\", labelCol=\"score\", maxIter=10, regParam=0.03, elasticNetParam=0.8)\n",
    "lrmodel = lr.fit(train_)\n",
    "pred_train = lrmodel.transform(train_)\n",
    "pred_test = lrmodel.transform(test_)\n",
    "pred_valid = lrmodel.transform(valid_)"
   ]
  },
  {
   "cell_type": "code",
   "execution_count": 144,
   "metadata": {},
   "outputs": [
    {
     "name": "stdout",
     "output_type": "stream",
     "text": [
      "Train RMSE: 16.41928489748523\n"
     ]
    }
   ],
   "source": [
    "eval = RegressionEvaluator(labelCol=\"score\", predictionCol=\"prediction\", metricName='rmse')\n",
    "print('Train RMSE:', eval.evaluate(pred_train))\n",
    "\n",
    "train_lr = []\n",
    "for i in range(1,5):\n",
    "    train_lr.append(eval.evaluate(pred_train.where(F.col('label')==i)))\n",
    "train_lr.append(eval.evaluate(pred_train))"
   ]
  },
  {
   "cell_type": "code",
   "execution_count": 145,
   "metadata": {},
   "outputs": [
    {
     "data": {
      "text/plain": [
       "[8.273425092666226,\n",
       " 10.790328047185762,\n",
       " 24.18997783205239,\n",
       " 83.95365404590669,\n",
       " 16.41928489748523]"
      ]
     },
     "execution_count": 145,
     "metadata": {},
     "output_type": "execute_result"
    }
   ],
   "source": [
    "train_lr"
   ]
  },
  {
   "cell_type": "code",
   "execution_count": 146,
   "metadata": {},
   "outputs": [
    {
     "name": "stdout",
     "output_type": "stream",
     "text": [
      "Test RMSE: 27.777792074823765\n"
     ]
    }
   ],
   "source": [
    "eval = RegressionEvaluator(labelCol=\"score\", predictionCol=\"prediction\", metricName='rmse')\n",
    "print('Test RMSE:', eval.evaluate(pred_test))\n",
    "\n",
    "test_lr = []\n",
    "for i in range(1,5):\n",
    "    test_lr.append(eval.evaluate(pred_test.where(F.col('label')==i)))\n",
    "test_lr.append(eval.evaluate(pred_test))"
   ]
  },
  {
   "cell_type": "code",
   "execution_count": 147,
   "metadata": {},
   "outputs": [
    {
     "data": {
      "text/plain": [
       "[17.650895911031686,\n",
       " 24.70418309020599,\n",
       " 31.148594306194006,\n",
       " 124.77564292352473,\n",
       " 27.777792074823765]"
      ]
     },
     "execution_count": 147,
     "metadata": {},
     "output_type": "execute_result"
    }
   ],
   "source": [
    "test_lr"
   ]
  },
  {
   "cell_type": "code",
   "execution_count": 148,
   "metadata": {},
   "outputs": [
    {
     "name": "stdout",
     "output_type": "stream",
     "text": [
      "OOT RMSE: 31.38773372824923\n"
     ]
    }
   ],
   "source": [
    "eval = RegressionEvaluator(labelCol=\"score\", predictionCol=\"prediction\", metricName='rmse')\n",
    "print('OOT RMSE:', eval.evaluate(pred_valid))\n",
    "\n",
    "oot_lr = []\n",
    "for i in range(1,5):\n",
    "    oot_lr.append(eval.evaluate(pred_valid.where(F.col('label')==i)))\n",
    "oot_lr.append(eval.evaluate(pred_valid))"
   ]
  },
  {
   "cell_type": "code",
   "execution_count": 149,
   "metadata": {},
   "outputs": [
    {
     "data": {
      "text/plain": [
       "[17.1226696651456,\n",
       " 35.937806899590456,\n",
       " 33.33254956728187,\n",
       " 142.3879181503427,\n",
       " 31.38773372824923]"
      ]
     },
     "execution_count": 149,
     "metadata": {},
     "output_type": "execute_result"
    }
   ],
   "source": [
    "oot_lr"
   ]
  },
  {
   "cell_type": "code",
   "execution_count": 150,
   "metadata": {},
   "outputs": [
    {
     "data": {
      "text/html": [
       "<div>\n",
       "<style scoped>\n",
       "    .dataframe tbody tr th:only-of-type {\n",
       "        vertical-align: middle;\n",
       "    }\n",
       "\n",
       "    .dataframe tbody tr th {\n",
       "        vertical-align: top;\n",
       "    }\n",
       "\n",
       "    .dataframe thead th {\n",
       "        text-align: right;\n",
       "    }\n",
       "</style>\n",
       "<table border=\"1\" class=\"dataframe\">\n",
       "  <thead>\n",
       "    <tr style=\"text-align: right;\">\n",
       "      <th></th>\n",
       "      <th>train</th>\n",
       "      <th>test</th>\n",
       "      <th>oot</th>\n",
       "    </tr>\n",
       "  </thead>\n",
       "  <tbody>\n",
       "    <tr>\n",
       "      <td>1</td>\n",
       "      <td>8.273425</td>\n",
       "      <td>17.650896</td>\n",
       "      <td>17.122670</td>\n",
       "    </tr>\n",
       "    <tr>\n",
       "      <td>2</td>\n",
       "      <td>10.790328</td>\n",
       "      <td>24.704183</td>\n",
       "      <td>35.937807</td>\n",
       "    </tr>\n",
       "    <tr>\n",
       "      <td>3</td>\n",
       "      <td>24.189978</td>\n",
       "      <td>31.148594</td>\n",
       "      <td>33.332550</td>\n",
       "    </tr>\n",
       "    <tr>\n",
       "      <td>4</td>\n",
       "      <td>83.953654</td>\n",
       "      <td>124.775643</td>\n",
       "      <td>142.387918</td>\n",
       "    </tr>\n",
       "    <tr>\n",
       "      <td>RMSE</td>\n",
       "      <td>16.419285</td>\n",
       "      <td>27.777792</td>\n",
       "      <td>31.387734</td>\n",
       "    </tr>\n",
       "  </tbody>\n",
       "</table>\n",
       "</div>"
      ],
      "text/plain": [
       "          train        test         oot\n",
       "1      8.273425   17.650896   17.122670\n",
       "2     10.790328   24.704183   35.937807\n",
       "3     24.189978   31.148594   33.332550\n",
       "4     83.953654  124.775643  142.387918\n",
       "RMSE  16.419285   27.777792   31.387734"
      ]
     },
     "execution_count": 150,
     "metadata": {},
     "output_type": "execute_result"
    }
   ],
   "source": [
    "lr_dict = dict()\n",
    "lr_dict['train']=train_lr\n",
    "lr_dict['test']=test_lr\n",
    "lr_dict['oot']=oot_lr\n",
    "\n",
    "import pandas as pd\n",
    "df_lr = pd.DataFrame(lr_dict, index=[1,2,3,4,'RMSE'])\n",
    "df_lr"
   ]
  },
  {
   "cell_type": "code",
   "execution_count": null,
   "metadata": {},
   "outputs": [],
   "source": []
  },
  {
   "cell_type": "code",
   "execution_count": 151,
   "metadata": {},
   "outputs": [
    {
     "data": {
      "image/png": "[encoded data removed]",
      "text/plain": [
       "<Figure size 432x288 with 1 Axes>"
      ]
     },
     "metadata": {
      "needs_background": "light"
     },
     "output_type": "display_data"
    }
   ],
   "source": [
    "plt.plot([1, 2, 3, 4], train_lr[:4], label='train')\n",
    "plt.plot([1, 2, 3, 4], test_lr[:4], label='test')\n",
    "plt.plot([1, 2, 3, 4], oot_lr[:4], label='oot')\n",
    "plt.xlabel('Label')\n",
    "plt.ylabel('RMSE')\n",
    "plt.title('RMSE at each label (Only Linear Regression)')\n",
    "plt.legend()\n",
    "plt.show()"
   ]
  },
  {
   "cell_type": "markdown",
   "metadata": {},
   "source": [
    "### Kmeans+Linear Regression"
   ]
  },
  {
   "cell_type": "code",
   "execution_count": 155,
   "metadata": {},
   "outputs": [],
   "source": [
    "input_feature = vec_col + ['num_comments', 'bool_mean','cate_mean','title_word2vec','url_word2vec']\n",
    "assembler = VectorAssembler(inputCols=input_feature, outputCol='features')\n",
    "train_df = assembler.transform(train)\n",
    "test_df = assembler.transform(test)\n",
    "valid_df = assembler.transform(valid)"
   ]
  },
  {
   "cell_type": "code",
   "execution_count": 154,
   "metadata": {},
   "outputs": [
    {
     "data": {
      "text/plain": [
       "['authorVec',\n",
       " 'whitelistVec',\n",
       " 'brand_safe_Vec',\n",
       " 'can_gild_Vec',\n",
       " 'is_crosspostable_Vec',\n",
       " 'no_follow_Vec',\n",
       " 'over_18_Vec',\n",
       " 'subreddit_Vec',\n",
       " 'subreddit_type_Vec',\n",
       " 'num_comments',\n",
       " 'bool_mean',\n",
       " 'cate_mean',\n",
       " 'title_word2vec',\n",
       " 'url_word2vec']"
      ]
     },
     "execution_count": 154,
     "metadata": {},
     "output_type": "execute_result"
    }
   ],
   "source": [
    "input_feature"
   ]
  },
  {
   "cell_type": "code",
   "execution_count": 156,
   "metadata": {},
   "outputs": [],
   "source": [
    "train_df = train_df.withColumn('label', udf_score('score'))\n",
    "test_df = test_df.withColumn('label', udf_score('score'))\n",
    "valid_df = valid_df.withColumn('label', udf_score('score'))"
   ]
  },
  {
   "cell_type": "code",
   "execution_count": 158,
   "metadata": {
    "scrolled": true
   },
   "outputs": [
    {
     "name": "stdout",
     "output_type": "stream",
     "text": [
      "Within Set Sum of Squared Errors = 75843.70359201365\n",
      "Cluster Centers: \n",
      "[ 9.42369891e-01  5.76301088e-02  7.35273939e-01  2.32284622e-01\n",
      "  3.24414388e-02  7.35371949e-01  2.64628051e-01  9.42369891e-01\n",
      "  5.76301088e-02  8.55336666e-01  1.44663334e-01  9.72557091e-01\n",
      "  2.74429089e-02  9.41095756e-01  5.89042438e-02  6.23934137e-01\n",
      "  1.33882192e-01  6.20405763e-02  4.93972361e-02  3.23434284e-02\n",
      "  2.64628051e-02  2.14642752e-02  1.10751740e-02  8.91894541e-03\n",
      "  8.13486230e-03  6.46868568e-03  3.43036362e-03  3.33235323e-03\n",
      "  2.35224934e-03  2.05821817e-03  1.37214545e-03  1.17612467e-03\n",
      "  1.07811428e-03  3.92041556e-04  2.94031167e-04  1.96020778e-04\n",
      "  9.80103891e-05  9.80103891e-05  6.23934137e-01  3.63030481e-01\n",
      "  1.30353818e-02  3.42840341e-01  1.25043759e+00  3.68446076e-01\n",
      "  2.18788869e-03 -1.62767113e-03  6.64837208e-03  2.76906715e-03\n",
      "  3.18380306e-03 -4.50279430e-04 -1.59532914e-03  6.24848402e-03\n",
      "  3.80029604e-03 -3.28598529e-03 -7.48281687e-04  5.91444935e-03\n",
      "  1.09562794e-02  7.02843430e-03  4.33170776e-03 -7.96730284e-04\n",
      " -6.33735844e-03 -1.08142453e-03  4.62281798e-03  7.71791823e-03\n",
      " -7.67347495e-03  9.62166429e-03  4.05802162e-03  6.30810163e-04\n",
      "  5.85773138e-03 -4.76334352e-03  2.46363842e-03  1.92436020e-03\n",
      "  1.86858211e-03 -3.01706475e-03  5.82255807e-03 -8.74833721e-04\n",
      " -4.30560533e-03  4.79328291e-03 -1.06538538e-02 -3.60664251e-04\n",
      " -6.08940485e-03  6.32520383e-03 -2.33008895e-03  8.66778902e-03\n",
      " -4.57256282e-03 -5.48168896e-06 -3.08272056e-03 -5.53578849e-04\n",
      " -4.97565469e-03 -1.83268490e-03 -1.64880978e-03 -4.75393163e-04\n",
      "  6.81604199e-03 -4.59193368e-03  4.52377870e-03 -1.73054005e-03\n",
      "  1.22480271e-03  5.43377198e-03 -1.52342810e-04 -1.12648915e-03\n",
      " -4.69517733e-03  2.73948489e-03  4.29182120e-04  7.61416711e-04\n",
      " -3.24694263e-03 -6.92168332e-04  5.73896000e-03 -5.11908691e-03\n",
      "  1.51434057e-03  4.17482096e-03  4.87008603e-03 -8.21730039e-03\n",
      " -4.37791106e-03  4.31261988e-03 -4.35078945e-03  4.12247968e-03\n",
      "  3.92425975e-03 -1.51134559e-03  1.37790390e-02 -2.14508449e-03\n",
      " -1.20466343e-02  4.91790576e-03 -8.96344116e-04  4.00325140e-03\n",
      "  6.96482561e-03  6.82769000e-04  4.07472320e-03 -5.47166876e-03\n",
      " -2.12694227e-03  5.36458683e-03  4.55640216e-03  5.06514154e-03\n",
      " -3.95387214e-03  3.29829556e-03 -9.01634457e-03  4.84958567e-03\n",
      " -4.94044173e-03 -1.85063912e-03  7.08330672e-03 -8.53192919e-03\n",
      " -1.92217481e-03 -1.62289213e-03  2.91501473e-03  3.74743417e-03\n",
      "  7.21871514e-03 -1.29640149e-02  7.46926044e-03  1.03560969e-02\n",
      " -5.43219849e-03 -1.39751878e-03 -7.50479794e-03  4.23573993e-03\n",
      "  1.49863335e-02 -7.41018164e-03  8.42901886e-03  8.63127714e-03\n",
      "  4.14075272e-04  1.74986590e-02  2.02574246e-02  7.30060919e-03\n",
      " -1.37531201e-02  1.34634836e-02 -6.46036446e-03 -1.52832979e-03\n",
      " -1.66925671e-02 -2.34507545e-04 -1.18669940e-02 -2.04426607e-03\n",
      "  6.18279444e-03 -7.94339682e-03  2.20271059e-03  1.27173900e-02\n",
      "  9.29062857e-03 -3.65389717e-03  1.47234636e-02 -2.00139291e-03\n",
      " -3.18321409e-03  1.19253502e-02 -1.30706756e-02  8.96191711e-03\n",
      "  1.22171691e-02  1.64068342e-02  2.94268074e-03  6.86006878e-03\n",
      " -4.97938056e-04  6.27777646e-03 -5.86813423e-03  1.61972491e-02\n",
      " -2.14946719e-02 -2.60839502e-03  1.43360140e-02 -2.71835139e-03\n",
      " -1.53872774e-02  1.80735502e-02  1.17142827e-02 -2.02655070e-02\n",
      " -2.33085242e-02  2.60474338e-02 -7.19663418e-03  2.20511616e-02\n",
      " -9.08484329e-04  9.78169256e-03  5.57315800e-03  2.38295912e-03\n",
      " -7.21717925e-03 -4.52086794e-03  9.99343232e-03  6.90591038e-03\n",
      " -1.35990818e-02  3.94174900e-03  6.25435444e-03 -9.52618869e-03\n",
      " -1.22322197e-02 -7.88146492e-03 -2.86800033e-03  1.31970747e-03\n",
      "  4.69210509e-04  3.22620100e-03  1.63779476e-02 -4.10111296e-03\n",
      " -1.67222247e-02 -3.88799246e-03  2.10586292e-02  1.62277664e-02\n",
      "  3.45160977e-03  1.13761200e-02  3.00017989e-03  2.51250409e-03\n",
      " -2.45976283e-02  7.09450941e-03 -1.46181548e-02  1.70746135e-03\n",
      " -9.00423304e-03 -1.03677201e-04 -7.63948886e-03  1.69865958e-02\n",
      " -2.08250589e-02 -2.43434177e-02  6.32895953e-03 -1.92373233e-02\n",
      "  9.13291689e-04 -1.12423021e-02  4.08311921e-03 -7.36074721e-03]\n",
      "[ 1.00000000e+00  0.00000000e+00  1.00000000e+00  0.00000000e+00\n",
      "  0.00000000e+00  1.00000000e+00  0.00000000e+00  1.00000000e+00\n",
      "  0.00000000e+00  1.00000000e+00  0.00000000e+00  0.00000000e+00\n",
      "  1.00000000e+00  1.00000000e+00  0.00000000e+00  1.00000000e+00\n",
      "  0.00000000e+00  0.00000000e+00  0.00000000e+00  0.00000000e+00\n",
      "  0.00000000e+00  0.00000000e+00  0.00000000e+00  0.00000000e+00\n",
      "  0.00000000e+00  0.00000000e+00  0.00000000e+00  0.00000000e+00\n",
      "  0.00000000e+00  0.00000000e+00  0.00000000e+00  0.00000000e+00\n",
      "  0.00000000e+00  0.00000000e+00  0.00000000e+00  0.00000000e+00\n",
      "  0.00000000e+00  0.00000000e+00  1.00000000e+00  0.00000000e+00\n",
      "  0.00000000e+00  1.93500000e+02  1.70766262e+01  4.16187990e+00\n",
      "  3.58559103e-03 -2.20470370e-03  1.05873986e-02  5.24198453e-03\n",
      "  6.18073500e-03 -7.03792806e-05 -1.72777711e-03  9.91714644e-03\n",
      "  4.28438548e-03 -4.76039520e-03 -2.27051887e-03  8.36375507e-03\n",
      "  1.56458576e-02  8.07713169e-03  5.07480547e-03 -2.97947260e-03\n",
      " -1.02328211e-02 -1.90031760e-03  7.03981315e-03  1.19556122e-02\n",
      " -1.02436751e-02  1.66479783e-02  6.44369566e-03  1.12833268e-03\n",
      "  9.54055959e-03 -6.57121565e-03  3.58940227e-03  3.67969787e-03\n",
      "  2.62273041e-03 -5.76847649e-03  6.40042013e-03 -1.36772936e-03\n",
      " -7.31660801e-03  8.56576380e-03 -1.58192186e-02 -6.71185449e-04\n",
      " -8.68329779e-03  8.77745880e-03 -4.27426093e-03  1.24038372e-02\n",
      " -7.13901913e-03  9.10391391e-04 -5.29980301e-03 -2.73774235e-04\n",
      " -7.00988701e-03 -3.30628856e-03 -1.82682722e-03  2.25755478e-04\n",
      "  1.07013783e-02 -8.01367755e-03  5.46958190e-03 -2.84935899e-03\n",
      "  2.17446528e-03  7.40247528e-03  5.76092001e-04 -2.83308183e-03\n",
      " -7.71005193e-03  3.24676875e-03 -3.46254674e-05  2.02312608e-03\n",
      " -6.09609931e-03 -1.15099663e-03  9.98770464e-03 -8.44073591e-03\n",
      "  1.89903270e-03  6.00696107e-03  7.44065185e-03 -1.16665456e-02\n",
      " -7.12583286e-03  8.19497428e-03 -5.31764830e-03  5.82633432e-03\n",
      "  5.25195160e-03 -2.67504341e-03  2.06259862e-02 -3.61480591e-03\n",
      " -1.87184646e-02  7.29156344e-03  1.73145190e-03  5.34013920e-03\n",
      "  1.15619266e-02  2.51402131e-04  4.37098233e-03 -6.83671051e-03\n",
      " -4.30632228e-03  7.12182161e-03  7.47703394e-03  6.49149351e-03\n",
      " -5.85080144e-03  5.15709101e-03 -1.45799041e-02  8.15008446e-03\n",
      " -6.62971656e-03 -7.86370743e-04  1.00451118e-02 -1.43774781e-02\n",
      " -3.16750050e-03 -4.24629073e-03  3.55020922e-03  5.59207788e-03\n",
      "  6.32962081e-02 -4.56015409e-02 -2.75475193e-02 -1.53745997e-02\n",
      "  4.60289768e-04  6.38988397e-02  6.14674496e-02 -3.99244701e-02\n",
      "  4.18596508e-02 -4.27866769e-02 -4.04824079e-02  1.03892929e-02\n",
      " -1.40538201e-01  8.12105967e-02 -4.48882871e-03 -5.64465584e-03\n",
      " -1.81373781e-04 -5.68880428e-02  1.09016250e-02 -8.69893534e-02\n",
      " -1.58160624e-03  2.53203375e-02 -8.55547432e-02 -3.07353583e-02\n",
      "  8.04154271e-02  4.46047851e-02 -8.73876381e-03 -3.89225651e-02\n",
      " -3.36645692e-02 -1.23099261e-02 -8.03280371e-02  3.77693343e-02\n",
      " -3.00187114e-02  9.03689239e-04  3.75874251e-02 -2.85287293e-03\n",
      " -5.58338181e-02 -4.74302189e-02 -4.72553721e-02  9.90748840e-03\n",
      " -1.11493689e-02 -3.75680439e-02  6.16938849e-02  2.18179458e-02\n",
      " -1.54647469e-02 -4.72741775e-02 -1.19590591e-01 -3.52723267e-02\n",
      "  3.44744096e-02 -5.41836096e-02  3.27509030e-03  3.13495436e-02\n",
      " -1.35575960e-02 -8.70954860e-02  5.21408620e-02 -7.99147948e-02\n",
      " -1.07336344e-01  3.10267586e-02  1.40208230e-02 -1.54211952e-02\n",
      "  2.94286173e-02  3.79707595e-02  3.64919786e-02  2.08780865e-02\n",
      "  5.29090326e-02 -3.55785676e-02  2.66960604e-02 -1.67972526e-03\n",
      "  3.53800986e-02 -1.35065878e-02 -1.46555180e-02  1.14982115e-01\n",
      " -9.47423799e-03 -1.01488634e-01  6.96199985e-02  2.19559445e-02\n",
      "  5.73062947e-02 -6.69774629e-02 -6.64383238e-02 -4.51296285e-03\n",
      "  6.44802474e-02 -1.01970298e-02 -7.75662691e-02 -1.29001058e-02\n",
      " -2.53208993e-02  3.30627592e-02 -6.76887664e-02 -4.33703873e-02\n",
      "  2.03048330e-02 -1.05935108e-02 -4.53608478e-02 -1.29119094e-01\n",
      " -3.05117993e-02  1.25025291e-01  1.87148641e-03 -4.26449101e-02\n",
      " -1.88393435e-02  9.85652443e-02  3.95190409e-02 -1.02588958e-01]\n",
      "[ 8.92857143e-01  1.07142857e-01  9.92537313e-01  7.46268657e-03\n",
      "  0.00000000e+00  9.92537313e-01  7.46268657e-03  8.92857143e-01\n",
      "  1.07142857e-01  9.66950959e-01  3.30490405e-02  0.00000000e+00\n",
      "  1.00000000e+00  1.00000000e+00  0.00000000e+00  9.16844350e-01\n",
      "  7.46268657e-03  1.75906183e-02  5.81023454e-02  0.00000000e+00\n",
      "  0.00000000e+00  0.00000000e+00  0.00000000e+00  0.00000000e+00\n",
      "  0.00000000e+00  0.00000000e+00  0.00000000e+00  0.00000000e+00\n",
      "  0.00000000e+00  0.00000000e+00  0.00000000e+00  0.00000000e+00\n",
      "  0.00000000e+00  0.00000000e+00  0.00000000e+00  0.00000000e+00\n",
      "  0.00000000e+00  0.00000000e+00  9.16844350e-01  8.31556503e-02\n",
      "  0.00000000e+00  9.32835821e-01  1.69892025e+01  4.01078302e+00\n",
      "  2.58685350e-03 -1.84297266e-03  7.81896862e-03  3.25543955e-03\n",
      "  3.67677349e-03 -4.54177390e-04 -1.96685356e-03  7.33168255e-03\n",
      "  4.37612793e-03 -3.84882220e-03 -9.25842087e-04  6.82473636e-03\n",
      "  1.26613667e-02  8.26061759e-03  5.01614754e-03 -7.96021534e-04\n",
      " -7.29583148e-03 -1.26414081e-03  5.40861735e-03  8.98368173e-03\n",
      " -8.91983995e-03  1.11357405e-02  4.69686112e-03  7.41153189e-04\n",
      "  6.68906963e-03 -5.56521841e-03  2.86388942e-03  2.24820074e-03\n",
      "  2.27409215e-03 -3.49944757e-03  6.72080178e-03 -1.02145809e-03\n",
      " -4.92971804e-03  5.48259414e-03 -1.22674527e-02 -2.95434477e-04\n",
      " -7.06337287e-03  7.28324160e-03 -2.76822239e-03  1.01596360e-02\n",
      " -5.23711045e-03 -3.07355116e-05 -3.52782628e-03 -7.95635574e-04\n",
      " -5.79724746e-03 -1.95116357e-03 -1.94001387e-03 -4.78751206e-04\n",
      "  8.03900852e-03 -5.30938253e-03  5.36050667e-03 -1.95516216e-03\n",
      "  1.48452938e-03  6.34632782e-03 -2.33883926e-05 -1.23166313e-03\n",
      " -5.40982330e-03  3.15411178e-03  4.80627675e-04  7.97230046e-04\n",
      " -3.63371495e-03 -9.91370005e-04  6.50914679e-03 -5.98311144e-03\n",
      "  1.72474005e-03  4.82128622e-03  5.67289390e-03 -9.55798612e-03\n",
      " -5.00767297e-03  5.06898045e-03 -5.10110392e-03  4.77257497e-03\n",
      "  4.61926913e-03 -1.76041855e-03  1.60660892e-02 -2.47302079e-03\n",
      " -1.39150741e-02  5.60983863e-03 -1.12189341e-03  4.68579660e-03\n",
      "  8.09181188e-03  7.72968392e-04  4.80502571e-03 -6.44827557e-03\n",
      " -2.41681629e-03  6.16560053e-03  5.17826705e-03  5.90977342e-03\n",
      " -4.56483464e-03  3.80950731e-03 -1.04535307e-02  5.69257877e-03\n",
      " -5.55639387e-03 -2.07263239e-03  8.39826854e-03 -9.83111622e-03\n",
      " -2.16750300e-03 -1.82860072e-03  3.44318993e-03  4.44610671e-03\n",
      "  1.88312438e-03 -8.69768807e-03  3.39014064e-03  1.66416300e-02\n",
      " -8.14994342e-04 -4.21890556e-03 -1.49589279e-02  1.29699265e-02\n",
      "  1.11732649e-02 -9.87482792e-03  1.46211169e-02  1.91281552e-02\n",
      "  1.54354785e-02  7.43126498e-03  3.48208801e-02  2.01956760e-02\n",
      " -2.95333218e-02  2.45398199e-02 -2.03449516e-03  2.29453193e-03\n",
      " -1.91619326e-02 -3.29593109e-04  1.09127362e-02 -1.93631938e-03\n",
      " -3.15677154e-03  2.15978691e-03  4.54393738e-03  1.19117059e-02\n",
      "  1.66769253e-02 -8.54716082e-03  2.41069676e-02 -1.07094028e-02\n",
      "  4.65902011e-03  1.01313641e-02 -2.31388115e-02  1.56952094e-02\n",
      "  1.61079936e-02  1.99368695e-02 -2.25684396e-03  5.69777066e-03\n",
      " -1.81487182e-02  2.24201724e-02 -2.07720436e-03 -4.50678581e-03\n",
      " -1.68374234e-02 -1.24830414e-03  2.29375772e-02  7.73383421e-03\n",
      " -3.97399097e-03  1.08212772e-02  1.44966256e-02 -2.41407277e-02\n",
      " -4.48969099e-02  3.06748694e-02  3.67992496e-03  1.36079166e-02\n",
      "  7.12519173e-04  8.47537407e-03  2.13877266e-02  1.31941897e-02\n",
      " -1.33067687e-02 -1.43798601e-02  7.57701169e-03 -1.34922876e-02\n",
      " -1.56740741e-02  5.19875203e-03  3.28350640e-03 -7.99220105e-03\n",
      " -1.53299222e-02  4.17312823e-03 -2.86662671e-03 -8.86920155e-03\n",
      "  8.50036310e-03  7.91690160e-03  2.44003252e-02 -6.95435738e-03\n",
      " -2.76290036e-02  7.61361650e-03  1.50500329e-02  1.66534817e-02\n",
      "  1.23966032e-02  7.14162262e-03  1.97684047e-02 -1.38280119e-02\n",
      " -3.07771213e-02  1.35016768e-03  1.83417634e-03  1.65314946e-02\n",
      " -1.56262777e-02 -3.12675388e-03 -1.06494053e-02  3.05911777e-02\n",
      " -2.66827728e-02 -2.61484415e-02  6.07118387e-03 -1.84569612e-02\n",
      "  2.60986174e-03 -4.14476953e-03  1.87029278e-03  2.86715289e-02]\n",
      "[ 8.66666667e-01  1.33333333e-01  1.00000000e+00  0.00000000e+00\n",
      "  0.00000000e+00  1.00000000e+00  0.00000000e+00  8.66666667e-01\n",
      "  1.33333333e-01  9.66666667e-01  3.33333333e-02  3.33333333e-02\n",
      "  9.66666667e-01  1.00000000e+00  0.00000000e+00  9.33333333e-01\n",
      "  0.00000000e+00  0.00000000e+00  6.66666667e-02  0.00000000e+00\n",
      "  0.00000000e+00  0.00000000e+00  0.00000000e+00  0.00000000e+00\n",
      "  0.00000000e+00  0.00000000e+00  0.00000000e+00  0.00000000e+00\n",
      "  0.00000000e+00  0.00000000e+00  0.00000000e+00  0.00000000e+00\n",
      "  0.00000000e+00  0.00000000e+00  0.00000000e+00  0.00000000e+00\n",
      "  0.00000000e+00  0.00000000e+00  9.33333333e-01  6.66666667e-02\n",
      "  0.00000000e+00  5.03000000e+01  1.64529048e+01  4.15416521e+00\n",
      "  1.41315123e-03 -8.87116691e-04  4.46622930e-03  1.54831677e-03\n",
      "  2.34601282e-03  9.97108385e-06 -9.71358340e-04  4.41419168e-03\n",
      "  3.07713000e-03 -2.54309566e-03 -3.15637704e-04  4.00717064e-03\n",
      "  8.18434841e-03  5.40215617e-03  2.97411520e-03 -5.83563443e-04\n",
      " -4.88772222e-03 -1.11636675e-03  3.09551519e-03  6.05590110e-03\n",
      " -5.79042049e-03  7.14378324e-03  2.90407765e-03  1.60893226e-04\n",
      "  4.00011927e-03 -2.89375823e-03  1.47531912e-03  1.41545617e-03\n",
      "  1.70228772e-03 -2.16485078e-03  5.12510164e-03  9.08567980e-05\n",
      " -3.07320175e-03  3.79103441e-03 -8.27354122e-03 -2.50846941e-04\n",
      " -4.42986386e-03  4.40856766e-03 -1.40572360e-03  6.83092225e-03\n",
      " -3.13396462e-03  1.70758332e-04 -2.16680441e-03  6.38978296e-05\n",
      " -4.14811274e-03 -1.00236103e-03 -1.20519019e-03 -8.03806160e-04\n",
      "  4.28946592e-03 -3.20885860e-03  3.34705918e-03 -1.47756178e-03\n",
      "  1.22044234e-03  4.10807815e-03 -3.81317663e-04 -6.70585388e-04\n",
      " -4.11877030e-03  1.69558349e-03  6.36868548e-04  7.72310460e-04\n",
      " -2.80735246e-03 -2.77927403e-04  4.05495340e-03 -3.51233827e-03\n",
      "  8.62111934e-04  2.83397699e-03  4.08756289e-03 -6.33982088e-03\n",
      " -3.26668178e-03  3.24280087e-03 -2.93943138e-03  3.81977004e-03\n",
      "  2.37749443e-03 -1.42331885e-03  1.00538657e-02 -6.63249535e-04\n",
      " -8.88127095e-03  2.61569442e-03 -8.15959571e-04  2.76467851e-03\n",
      "  4.77788071e-03  5.76980968e-04  2.86695466e-03 -4.08620022e-03\n",
      " -1.55050758e-03  4.61459487e-03  2.98914555e-03  3.51563321e-03\n",
      " -2.53494491e-03  2.29543364e-03 -6.38254371e-03  3.26394810e-03\n",
      " -3.33180178e-03 -1.43896240e-03  5.43380685e-03 -6.43163396e-03\n",
      " -1.02192593e-03 -8.66841634e-04  1.65544151e-03  2.73339363e-03\n",
      "  8.93724404e-03  4.59526442e-04 -4.60817621e-04  1.72923976e-03\n",
      " -6.00572551e-03  2.32124128e-03 -1.31990121e-02 -4.00413466e-03\n",
      "  2.78239011e-02 -1.04959753e-02  1.50490668e-02  2.55173900e-03\n",
      " -1.81899110e-02 -2.14977187e-02  1.62986062e-02 -1.88190559e-03\n",
      " -1.38796770e-02  1.40582081e-02 -4.12949717e-03 -7.04727123e-04\n",
      " -1.83423591e-03  1.77708310e-02 -4.89568464e-03 -2.92392879e-04\n",
      "  4.14182080e-03 -9.86335856e-03 -3.33931222e-04  8.62871963e-03\n",
      "  1.42795333e-02  4.67089077e-03  6.44580446e-03 -1.45074104e-03\n",
      " -7.74918092e-04  1.06790197e-03 -1.34828667e-02  1.24613716e-02\n",
      " -3.71573747e-03  2.04943894e-02  2.57965155e-02 -1.72716949e-02\n",
      " -9.83294945e-04 -1.60488256e-02 -1.19061758e-02  1.57120317e-02\n",
      " -1.43898915e-02 -8.11095440e-03  1.04302047e-02 -7.50842275e-03\n",
      " -2.02317814e-02  6.57651262e-03  1.36724281e-02 -2.19027473e-02\n",
      " -7.01641692e-03  9.55619626e-03  1.75750089e-03  4.71610480e-03\n",
      " -2.12650406e-03  1.08265039e-02  8.08889769e-04  6.69958417e-03\n",
      " -8.94531246e-03 -9.81869214e-03  1.93941928e-02  7.40303046e-03\n",
      " -2.10351324e-02  7.88625290e-03 -2.24996299e-03  5.99850177e-03\n",
      " -4.59521378e-03 -4.45921578e-03  1.07263477e-02  1.98582521e-03\n",
      " -5.32045049e-03  1.57149524e-03 -3.59893740e-03  7.95338497e-03\n",
      " -2.32266553e-02  3.13602017e-03  2.18882201e-02  2.18140926e-02\n",
      " -3.20610944e-02  1.81206003e-02  1.05171638e-02  2.78467048e-02\n",
      " -9.79126098e-03  2.06492122e-02 -2.17640851e-02  1.19021782e-02\n",
      "  6.63369505e-03 -4.18299795e-03  4.36990280e-03  8.68729383e-03\n",
      " -1.24691882e-02 -3.57195402e-03 -1.91406533e-03 -2.19692318e-04\n",
      "  1.00141267e-02 -1.41902167e-02 -1.09866246e-02  3.06569738e-03]\n",
      "[ 8.54700855e-01  1.45299145e-01  9.91452991e-01  8.54700855e-03\n",
      "  0.00000000e+00  9.91452991e-01  8.54700855e-03  8.54700855e-01\n",
      "  1.45299145e-01  9.65811966e-01  3.41880342e-02  8.54700855e-02\n",
      "  9.14529915e-01  1.00000000e+00  0.00000000e+00  9.05982906e-01\n",
      "  0.00000000e+00  0.00000000e+00  8.54700855e-02  0.00000000e+00\n",
      "  0.00000000e+00  0.00000000e+00  0.00000000e+00  8.54700855e-03\n",
      "  0.00000000e+00  0.00000000e+00  0.00000000e+00  0.00000000e+00\n",
      "  0.00000000e+00  0.00000000e+00  0.00000000e+00  0.00000000e+00\n",
      "  0.00000000e+00  0.00000000e+00  0.00000000e+00  0.00000000e+00\n",
      "  0.00000000e+00  0.00000000e+00  9.05982906e-01  9.40170940e-02\n",
      "  0.00000000e+00  2.29572650e+01  1.55311512e+01  3.88556442e+00\n",
      "  2.83807839e-03 -1.73504202e-03  7.95229415e-03  3.33425301e-03\n",
      "  3.86041835e-03 -1.72999486e-04 -1.82243779e-03  7.61082814e-03\n",
      "  4.57647436e-03 -4.03077918e-03 -9.04728988e-04  7.06937545e-03\n",
      "  1.32123573e-02  8.56158226e-03  5.16245337e-03 -9.44771396e-04\n",
      " -7.57189667e-03 -1.31242003e-03  5.43436834e-03  9.44702476e-03\n",
      " -9.25407730e-03  1.15604341e-02  4.76209530e-03  7.81146959e-04\n",
      "  6.92279667e-03 -5.85644949e-03  2.94363683e-03  2.30111091e-03\n",
      "  2.52978802e-03 -3.53233983e-03  7.12705569e-03 -6.60057188e-04\n",
      " -5.07895631e-03  5.55396759e-03 -1.28295882e-02 -3.01796462e-04\n",
      " -7.57145926e-03  7.47667073e-03 -2.54833485e-03  1.05211242e-02\n",
      " -5.32557920e-03 -2.08817501e-04 -3.65929121e-03 -8.24824958e-04\n",
      " -5.96843213e-03 -1.90576118e-03 -1.95188767e-03 -4.81329209e-04\n",
      "  8.41270252e-03 -5.34122454e-03  5.79930012e-03 -1.90494904e-03\n",
      "  1.61657859e-03  7.04654284e-03 -7.53349722e-05 -1.51415773e-03\n",
      " -5.54175840e-03  3.15776180e-03  4.80429101e-04  7.08076359e-04\n",
      " -3.96183265e-03 -9.79166275e-04  6.56833679e-03 -6.33503249e-03\n",
      "  1.67310370e-03  4.74998340e-03  5.68085240e-03 -9.91014594e-03\n",
      " -5.18659381e-03  5.23864354e-03 -5.45993269e-03  4.98834995e-03\n",
      "  4.66870151e-03 -1.90344541e-03  1.67889316e-02 -2.32982347e-03\n",
      " -1.45212929e-02  5.68870726e-03 -1.23533899e-03  4.94934219e-03\n",
      "  8.36447193e-03  8.95252013e-04  4.93665028e-03 -6.80815975e-03\n",
      " -2.43961217e-03  6.49308508e-03  5.49357539e-03  6.00848703e-03\n",
      " -4.69768691e-03  4.14136619e-03 -1.07347665e-02  5.85837468e-03\n",
      " -5.64284022e-03 -2.42684074e-03  8.73198331e-03 -1.01833483e-02\n",
      " -2.11586828e-03 -1.89122246e-03  3.62411234e-03  4.38832719e-03\n",
      "  3.95126260e-03 -4.01166882e-03  2.52770245e-03  1.93440411e-02\n",
      "  6.97110384e-03 -5.44460320e-03 -1.15699161e-02  1.67871183e-02\n",
      "  1.15686160e-02 -9.75096981e-03  1.48536391e-02  1.59619785e-02\n",
      "  1.02840723e-02 -3.68059737e-03  3.24101997e-02  1.57933222e-02\n",
      " -3.17762929e-02  2.21806952e-02 -4.87893282e-04 -7.69483977e-04\n",
      " -1.54908599e-02  6.86482699e-03  8.12852190e-03  5.62128819e-03\n",
      "  1.97175620e-03  2.76843552e-03  5.11930777e-03  5.15391484e-03\n",
      "  1.82408783e-02 -1.22257324e-02  2.11867643e-02 -7.56092284e-03\n",
      "  9.09088712e-03  7.24021613e-03 -2.00223937e-02  2.15567738e-02\n",
      "  6.21834739e-03  1.65827916e-02 -6.68082662e-03  4.14247360e-03\n",
      " -1.94703882e-02  1.66034656e-02 -5.87645072e-03 -1.26618785e-02\n",
      " -1.69557962e-02 -6.28644634e-03  2.40294684e-02  6.29823583e-03\n",
      "  6.86958433e-03 -1.62504086e-03  1.73100956e-02 -2.36032213e-02\n",
      " -4.30530261e-02  1.55943316e-02  1.68493748e-02  8.17268347e-04\n",
      " -5.00475852e-03  6.91527074e-03  2.14299442e-02  1.18001091e-02\n",
      " -8.01594694e-03 -2.01547349e-02  1.16042597e-02 -1.88005403e-02\n",
      " -9.43056863e-03  1.46813907e-03 -4.97887713e-03 -3.45421968e-03\n",
      " -1.20509243e-02  1.54959524e-02 -1.50290400e-03 -1.12368590e-02\n",
      "  3.40813190e-03 -2.38495084e-03  1.78933832e-02  4.22632016e-03\n",
      " -2.59143503e-02  9.81998534e-03  6.72870981e-03  2.17372163e-02\n",
      "  5.11683786e-03  1.49339480e-03  1.95081203e-02 -1.10109313e-02\n",
      " -2.85755476e-02  5.68690444e-03 -5.85572512e-03  1.54593422e-02\n",
      " -1.07460103e-02 -6.67890944e-03 -8.85638021e-03  2.70589628e-02\n",
      " -2.77077098e-02 -1.58682015e-02 -1.32450978e-03 -1.07818201e-02\n",
      "  4.36707801e-03  4.56128985e-04 -2.76071109e-03  3.89632095e-02]\n",
      "[ 9.08474576e-01  9.15254237e-02  1.00000000e+00  0.00000000e+00\n",
      "  0.00000000e+00  1.00000000e+00  0.00000000e+00  9.08474576e-01\n",
      "  9.15254237e-02  9.62711864e-01  3.72881356e-02  0.00000000e+00\n",
      "  1.00000000e+00  1.00000000e+00  0.00000000e+00  9.45762712e-01\n",
      "  0.00000000e+00  0.00000000e+00  5.42372881e-02  0.00000000e+00\n",
      "  0.00000000e+00  0.00000000e+00  0.00000000e+00  0.00000000e+00\n",
      "  0.00000000e+00  0.00000000e+00  0.00000000e+00  0.00000000e+00\n",
      "  0.00000000e+00  0.00000000e+00  0.00000000e+00  0.00000000e+00\n",
      "  0.00000000e+00  0.00000000e+00  0.00000000e+00  0.00000000e+00\n",
      "  0.00000000e+00  0.00000000e+00  9.45762712e-01  5.42372881e-02\n",
      "  0.00000000e+00  9.78983051e+00  1.69095000e+01  4.15468550e+00\n",
      "  2.74975258e-03 -1.87365043e-03  8.33073161e-03  3.60570324e-03\n",
      "  3.91379487e-03 -4.47497498e-04 -2.18620223e-03  7.88828322e-03\n",
      "  4.65755813e-03 -4.42677562e-03 -9.41885707e-04  7.37819686e-03\n",
      "  1.39862957e-02  9.07137824e-03  5.57001259e-03 -8.93538848e-04\n",
      " -7.97322073e-03 -1.27668932e-03  5.83733557e-03  9.67360835e-03\n",
      " -9.80284563e-03  1.20178174e-02  5.15955744e-03  9.98399351e-04\n",
      "  7.29982385e-03 -6.16806613e-03  3.03697848e-03  2.49747788e-03\n",
      "  2.42938476e-03 -3.82150611e-03  7.27706233e-03 -9.85933071e-04\n",
      " -5.41753236e-03  5.88480349e-03 -1.31843100e-02 -1.17993237e-04\n",
      " -7.52116780e-03  7.97922125e-03 -3.03217814e-03  1.09848999e-02\n",
      " -5.72622089e-03 -2.38168299e-05 -3.80271555e-03 -9.28715783e-04\n",
      " -6.43837924e-03 -2.07024745e-03 -1.86526596e-03 -6.42326979e-04\n",
      "  8.67646515e-03 -5.77140794e-03  5.69189790e-03 -1.99861141e-03\n",
      "  1.64654177e-03  6.95357142e-03  3.70935355e-05 -1.35283125e-03\n",
      " -5.86334760e-03  3.44114914e-03  5.60969753e-04  7.64118281e-04\n",
      " -3.78030693e-03 -1.11691022e-03  6.91700684e-03 -6.62561230e-03\n",
      "  1.95365192e-03  5.19465799e-03  6.05276587e-03 -1.03185996e-02\n",
      " -5.46784477e-03  5.43599448e-03 -5.70577191e-03  5.15541369e-03\n",
      "  4.99630260e-03 -1.88566688e-03  1.75343868e-02 -2.80105327e-03\n",
      " -1.51069644e-02  6.14209986e-03 -1.17412683e-03  5.00276970e-03\n",
      "  8.82112745e-03  8.31445195e-04  5.23925459e-03 -7.05146370e-03\n",
      " -2.57774267e-03  6.73802823e-03  5.67528339e-03  6.58450030e-03\n",
      " -4.97650044e-03  4.03787447e-03 -1.14405480e-02  6.10841669e-03\n",
      " -5.84012110e-03 -2.39909794e-03  9.13973157e-03 -1.08024791e-02\n",
      " -2.31914603e-03 -1.89391297e-03  3.69498070e-03  4.85894016e-03\n",
      "  1.87341734e-03 -3.39048723e-03  2.03020846e-03  2.26220390e-02\n",
      "  4.95385858e-03 -9.62569284e-03 -1.44077429e-02  2.04040302e-02\n",
      "  7.75994831e-03 -8.93161675e-03  1.44854621e-02  1.97671638e-02\n",
      "  1.54477267e-02 -4.14584876e-04  3.59010408e-02  2.26207776e-02\n",
      " -3.89598971e-02  3.12563092e-02 -1.51701919e-03  4.64151456e-03\n",
      " -1.88905479e-02  5.93582919e-03  1.52231475e-02  1.32512936e-03\n",
      " -4.74744007e-03  9.07215116e-03  4.42134362e-03  4.49794469e-03\n",
      "  1.15290771e-02 -1.32655424e-02  2.69624156e-02 -9.33996904e-03\n",
      "  9.66492209e-03  7.59828042e-03 -2.33920079e-02  2.21488328e-02\n",
      "  7.71892379e-03  1.63917074e-02 -1.26452345e-02  4.83316378e-03\n",
      " -1.74384653e-02  2.04136597e-02  1.38015792e-03 -1.84879877e-02\n",
      " -1.21265700e-02 -2.40868941e-03  2.71084528e-02  3.62448383e-03\n",
      "  1.00371100e-02 -6.93170337e-03  1.88435410e-02 -2.83154908e-02\n",
      " -4.79026984e-02  2.27743212e-02  1.79172932e-02 -1.57528890e-04\n",
      "  1.02234831e-03  4.20073131e-03  2.99915744e-02  1.37963591e-02\n",
      " -1.69191016e-02 -1.50802515e-02  9.66702535e-03 -2.27676510e-02\n",
      " -1.56501183e-02  5.84522545e-03 -7.22261776e-03 -1.12088346e-02\n",
      " -8.10194202e-03  1.70936991e-02 -2.99919927e-03 -1.48150950e-02\n",
      " -1.91518933e-03  3.37413691e-03  2.01727359e-02  1.88673096e-06\n",
      " -2.91840488e-02  9.78300848e-03  9.14583914e-03  1.78401760e-02\n",
      "  1.08545794e-02 -1.40086404e-04  2.89522777e-02 -2.01826752e-02\n",
      " -3.42332046e-02  3.78721790e-03  1.25164106e-02  1.64450724e-02\n",
      " -1.49090257e-02 -9.26187783e-03 -6.52876030e-03  3.56812687e-02\n",
      " -3.16650118e-02 -2.19198047e-02  8.09928829e-03 -1.32013423e-02\n",
      "  4.20222069e-03  7.14222917e-03 -7.03968552e-03  4.68773958e-02]\n"
     ]
    }
   ],
   "source": [
    "from pyspark.ml.clustering import KMeans\n",
    "\n",
    "# Trains a k-means model.\n",
    "kmeans = KMeans().setK(6).setSeed(1)\n",
    "model = kmeans.fit(train_df)\n",
    "train_kmeans = model.transform(train_df)\n",
    "\n",
    "\n",
    "# Evaluate clustering by computing Within Set Sum of Squared Errors.\n",
    "wssse = model.computeCost(train_df)\n",
    "print(\"Within Set Sum of Squared Errors = \" + str(wssse))\n",
    "\n",
    "# Shows the result.\n",
    "centers = model.clusterCenters()\n",
    "print(\"Cluster Centers: \")\n",
    "for center in centers:\n",
    "    print(center)"
   ]
  },
  {
   "cell_type": "code",
   "execution_count": 159,
   "metadata": {},
   "outputs": [],
   "source": [
    "train_kmeans = model.transform(train_df)\n",
    "count_num=dict()\n",
    "for i in range(6):\n",
    "    \n",
    "    c = int(train_kmeans.where(F.col('prediction')==i).count())\n",
    "    count_num[i]=c"
   ]
  },
  {
   "cell_type": "code",
   "execution_count": 160,
   "metadata": {},
   "outputs": [
    {
     "data": {
      "text/plain": [
       "{0: 10203, 1: 4, 2: 1876, 3: 30, 4: 117, 5: 295}"
      ]
     },
     "execution_count": 160,
     "metadata": {},
     "output_type": "execute_result"
    }
   ],
   "source": [
    "count_num"
   ]
  },
  {
   "cell_type": "code",
   "execution_count": 161,
   "metadata": {},
   "outputs": [
    {
     "name": "stdout",
     "output_type": "stream",
     "text": [
      "+----------+-----+-----+\n",
      "|prediction|label|count|\n",
      "+----------+-----+-----+\n",
      "|         0|    1| 7494|\n",
      "|         0|    2| 2438|\n",
      "|         0|    4|   11|\n",
      "|         0|    3|  260|\n",
      "|         1|    4|    3|\n",
      "|         1|    3|    1|\n",
      "|         2|    3|  649|\n",
      "|         2|    4|   47|\n",
      "|         2|    2| 1179|\n",
      "|         2|    1|    1|\n",
      "|         3|    3|    7|\n",
      "|         3|    4|   23|\n",
      "|         4|    3|   46|\n",
      "|         4|    4|   67|\n",
      "|         4|    2|    4|\n",
      "|         5|    4|  100|\n",
      "|         5|    2|   10|\n",
      "|         5|    3|  185|\n",
      "+----------+-----+-----+\n",
      "\n"
     ]
    }
   ],
   "source": [
    "train_kmeans.groupby('prediction','label').count().sort('prediction').show(30)"
   ]
  },
  {
   "cell_type": "code",
   "execution_count": 162,
   "metadata": {},
   "outputs": [],
   "source": [
    "test_kmeans = model.transform(test_df)\n",
    "count_test=dict()\n",
    "for i in range(6):\n",
    "    \n",
    "    c = int(test_kmeans.where(F.col('prediction')==i).count())\n",
    "    count_test[i]=c"
   ]
  },
  {
   "cell_type": "code",
   "execution_count": 163,
   "metadata": {},
   "outputs": [],
   "source": [
    "valid_kmeans = model.transform(valid_df)\n",
    "count_valid=dict()\n",
    "for i in range(6):\n",
    "    c = int(valid_kmeans.where(F.col('prediction')==i).count())\n",
    "    count_valid[i]=c"
   ]
  },
  {
   "cell_type": "code",
   "execution_count": null,
   "metadata": {},
   "outputs": [],
   "source": [
    "#count_valid"
   ]
  },
  {
   "cell_type": "code",
   "execution_count": null,
   "metadata": {},
   "outputs": [],
   "source": [
    "#valid_kmeans.groupby('prediction','label').count().sort('prediction').show(30)"
   ]
  },
  {
   "cell_type": "code",
   "execution_count": 164,
   "metadata": {},
   "outputs": [],
   "source": [
    "\n",
    "a = train_kmeans.withColumn('kmeans', when(((F.col('prediction') == 3) |(F.col('prediction') == 1)), 4)\\\n",
    "                                     .otherwise(F.col('prediction')))\\\n",
    "                .drop('prediction','features')\n",
    "\n",
    "b = test_kmeans.withColumn('kmeans', when(((F.col('prediction') == 3) |(F.col('prediction') == 1)), 4)\\\n",
    "                                     .otherwise(F.col('prediction')))\\\n",
    "                .drop('prediction','features')\n",
    "\n",
    "c = valid_kmeans.withColumn('kmeans', when(((F.col('prediction') == 3) |(F.col('prediction') == 1)), 4)\\\n",
    "                                     .otherwise(F.col('prediction')))\\\n",
    "                .drop('prediction','features')"
   ]
  },
  {
   "cell_type": "code",
   "execution_count": 165,
   "metadata": {},
   "outputs": [],
   "source": [
    "vec_col = [col for col in train.columns if 'Vec' in col]\n",
    "input_feature = vec_col + ['comments_norm', 'cate_mean','bool_mean']"
   ]
  },
  {
   "cell_type": "code",
   "execution_count": 166,
   "metadata": {},
   "outputs": [],
   "source": [
    "assembler = VectorAssembler(inputCols=input_feature, outputCol='features')\n",
    "aa = assembler.transform(a)\n",
    "bb = assembler.transform(b)\n",
    "cc = assembler.transform(c)"
   ]
  },
  {
   "cell_type": "code",
   "execution_count": 167,
   "metadata": {},
   "outputs": [
    {
     "name": "stdout",
     "output_type": "stream",
     "text": [
      "Keans:  0 Rows:  10203\n",
      "RMSE: 6.107333733618212\n",
      "Keans:  2 Rows:  1876\n",
      "RMSE: 24.636308380666197\n",
      "Keans:  4 Rows:  151\n",
      "RMSE: 94.37809354326028\n",
      "Keans:  5 Rows:  295\n",
      "RMSE: 71.13962947569382\n",
      "18.651423046829606\n"
     ]
    }
   ],
   "source": [
    "rmse_tr = 0\n",
    "for i in [0,2,4,5]:\n",
    "    train = aa.where(F.col('kmeans')==i)\n",
    "    lr = LinearRegression(featuresCol = \"features\", labelCol=\"score\", maxIter=10, regParam=0.03, elasticNetParam=0.8)\n",
    "    lrmodel = lr.fit(train)\n",
    "\n",
    "    ##test\n",
    "    test = aa.where(F.col('kmeans')==i)\n",
    "    if int(test.count())>0:\n",
    "        test_pred = lrmodel.transform(test)\n",
    "        test_pred = test_pred.withColumn('pred', when(F.col('prediction')<0,0).otherwise(F.col('prediction')))\n",
    "        eval = RegressionEvaluator(labelCol=\"score\", predictionCol=\"pred\", metricName='rmse')\n",
    "        print('Keans: ', i, 'Rows: ', int(test.count()))\n",
    "        print('RMSE:', eval.evaluate(test_pred))\n",
    "        r = eval.evaluate(test_pred)\n",
    "        rmse_tr += (int(test.count())*(r**2))\n",
    "    else:\n",
    "        pass\n",
    "    \n",
    "    ##valid\n",
    "print(np.sqrt(rmse_tr/int(aa.count())))"
   ]
  },
  {
   "cell_type": "code",
   "execution_count": 168,
   "metadata": {},
   "outputs": [
    {
     "name": "stdout",
     "output_type": "stream",
     "text": [
      "Keans:  0 Rows:  9911\n",
      "RMSE: 5.605810458702182\n",
      "Keans:  2 Rows:  2054\n",
      "RMSE: 19.661126072506804\n",
      "Keans:  4 Rows:  233\n",
      "RMSE: 87.72935696969878\n",
      "Keans:  5 Rows:  358\n",
      "RMSE: 65.15752239770033\n",
      "18.75932130477061\n"
     ]
    }
   ],
   "source": [
    "rmse_te = 0\n",
    "for i in [0,2,4,5]:\n",
    "    train = aa.where(F.col('kmeans')==i)\n",
    "    lr = LinearRegression(featuresCol = \"features\", labelCol=\"score\", maxIter=10, regParam=0.03, elasticNetParam=0.8)\n",
    "    lrmodel = lr.fit(train)\n",
    "    \n",
    "    \n",
    "    ##train\n",
    "    \n",
    "    ##test\n",
    "    test = bb.where(F.col('kmeans')==i)\n",
    "    if int(test.count())>0:\n",
    "        test_pred = lrmodel.transform(test)\n",
    "        test_pred = test_pred.withColumn('pred', when(F.col('prediction')<0,0).otherwise(F.col('prediction')))\n",
    "        eval = RegressionEvaluator(labelCol=\"score\", predictionCol=\"pred\", metricName='rmse')\n",
    "        #print(i, ' ', int(test.count()))\n",
    "        print('Keans: ', i, 'Rows: ', int(test.count()))\n",
    "        print('RMSE:', eval.evaluate(test_pred))\n",
    "        r = eval.evaluate(test_pred)\n",
    "        #print(r**2)\n",
    "        rmse_te += (int(test.count())*(r**2))\n",
    "    else:\n",
    "        pass\n",
    "    \n",
    "    ##valid\n",
    "print((rmse_te/int(bb.count()))**0.5)"
   ]
  },
  {
   "cell_type": "code",
   "execution_count": 169,
   "metadata": {
    "scrolled": true
   },
   "outputs": [
    {
     "name": "stdout",
     "output_type": "stream",
     "text": [
      "0   12018\n",
      "RMSE: 6.110824222855583\n",
      "2   1951\n",
      "RMSE: 19.557468243350865\n",
      "4   344\n",
      "RMSE: 100.65498517261102\n",
      "5   388\n",
      "RMSE: 54.86260868727704\n",
      "19.94496056751909\n"
     ]
    }
   ],
   "source": [
    "rmse_va = 0\n",
    "result = dict()\n",
    "\n",
    "for i in [0,2,4,5]:\n",
    "    train = aa.where(F.col('kmeans')==i)\n",
    "    lr = LinearRegression(featuresCol = \"features\", labelCol=\"score\", maxIter=10, regParam=0.03, elasticNetParam=0.8)\n",
    "    lrmodel = lr.fit(train)\n",
    "    \n",
    "    \n",
    "    ##train\n",
    "    \n",
    "    ##test\n",
    "    test = cc.where(F.col('kmeans')==i)\n",
    "    if int(test.count())>0:\n",
    "        test_pred = lrmodel.transform(test)\n",
    "        test_pred = test_pred.withColumn('pred', when(F.col('prediction')<0,0).otherwise(F.col('prediction')))\n",
    "        eval = RegressionEvaluator(labelCol=\"score\", predictionCol=\"pred\", metricName='rmse')\n",
    "        print(i, ' ', int(test.count()))\n",
    "        print('RMSE:', eval.evaluate(test_pred))\n",
    "        rmse_va += (int(test.count())*(eval.evaluate(test_pred))**2)\n",
    "        result[i]=test_pred.select('pred','score','label').collect()\n",
    "    else:\n",
    "        pass\n",
    "    \n",
    "    ##valid\n",
    "print((rmse_va/int(valid.count()))**0.5)"
   ]
  },
  {
   "cell_type": "code",
   "execution_count": 48,
   "metadata": {},
   "outputs": [
    {
     "name": "stdout",
     "output_type": "stream",
     "text": [
      "12018\n",
      "0.8291729073057081\n",
      "1951\n",
      "0.6940030753459764\n",
      "344\n",
      "0.4796511627906977\n",
      "388\n",
      "0.6314432989690721\n"
     ]
    }
   ],
   "source": [
    "from pyspark.mllib.tree import DecisionTree\n",
    "from pyspark.mllib.regression import LabeledPoint\n",
    "    \n",
    "rmse = 0\n",
    "for i in [0,2,4,5]:\n",
    "    train = aa.where(F.col('kmeans')==i)\n",
    "    dt = DecisionTreeClassifier(labelCol=\"label\", featuresCol=\"features\", maxDepth=10)\n",
    "    dtModel = dt.fit(train)\n",
    "    \n",
    "    test = cc.where(F.col('kmeans')==i)\n",
    "    if int(test.count())>0:\n",
    "        result = dtModel.transform(test)\n",
    "        acc = result.where(result['label']==result['prediction']).count()/result.count()\n",
    "        print(int(test.count()))\n",
    "        print(acc)\n",
    "#         test_pred = test_pred.withColumn('pred', when(F.col('prediction')<0,0).otherwise(F.col('prediction')))\n",
    "#         eval = RegressionEvaluator(labelCol=\"score\", predictionCol=\"pred\", metricName='rmse')\n",
    "#         print(i, ' ', int(test.count()))\n",
    "#         print('RMSE:', eval.evaluate(test_pred))\n",
    "#         rmse += (int(test.count())*eval.evaluate(test_pred))\n",
    "    else:\n",
    "        pass\n",
    "#print(rmse/int(valid_fea.count()))"
   ]
  },
  {
   "cell_type": "code",
   "execution_count": 49,
   "metadata": {},
   "outputs": [],
   "source": [
    "from pyspark.ml.classification import LogisticRegression, OneVsRest\n",
    "from pyspark.ml.evaluation import MulticlassClassificationEvaluator\n",
    "from pyspark.ml.classification import DecisionTreeClassifier"
   ]
  },
  {
   "cell_type": "code",
   "execution_count": 170,
   "metadata": {},
   "outputs": [],
   "source": [
    "tr_rmse = 0\n",
    "te_rmse = 0\n",
    "va_rmse = 0\n",
    "\n",
    "tr = dict()\n",
    "te = dict()\n",
    "va = dict()\n",
    "\n",
    "for i in range(1,5):\n",
    "    tr[i] =[]\n",
    "    te[i] =[]\n",
    "    va[i] =[]\n"
   ]
  },
  {
   "cell_type": "code",
   "execution_count": 171,
   "metadata": {
    "scrolled": true
   },
   "outputs": [
    {
     "name": "stdout",
     "output_type": "stream",
     "text": [
      "[48350.58249728416]\n",
      "[23214.195417768882]\n",
      "[130959.35304549763]\n",
      "[178042.9260201132]\n",
      "[36546.6833034127]\n",
      "[17986.49468639483]\n",
      "[142449.10031342864]\n",
      "[114471.99581571079]\n",
      "[36125.24007696696]\n",
      "[12543.899543681495]\n",
      "[180718.4030224542]\n",
      "[219390.6886568531]\n",
      "[48350.58249728416, 286.722462408027]\n",
      "[23214.195417768882, 168472.84523386238]\n",
      "[130959.35304549763, 309452.610729225]\n",
      "[178042.9260201132, 660421.6891912937]\n",
      "[17986.49468639483, 119366.90915031006]\n",
      "[142449.10031342864, 277496.7327063806]\n",
      "[114471.99581571079, 397130.34845701803]\n",
      "[36125.24007696696, 231.15983280996838]\n",
      "[12543.899543681495, 96549.08721941062]\n",
      "[180718.4030224542, 300935.704235296]\n",
      "[219390.6886568531, 348530.9432514477]\n",
      "[23214.195417768882, 168472.84523386238, 38737.45426408754]\n",
      "[130959.35304549763, 309452.610729225, 430371.4531506927]\n",
      "[178042.9260201132, 660421.6891912937, 875881.9982551386]\n",
      "[36546.6833034127, 33802.618808317784]\n",
      "[17986.49468639483, 119366.90915031006, 65871.85204865065]\n",
      "[142449.10031342864, 277496.7327063806, 639188.0596916459]\n",
      "[114471.99581571079, 397130.34845701803, 1054408.006767208]\n",
      "[36125.24007696696, 231.15983280996838, 65269.81198549339]\n",
      "[12543.899543681495, 96549.08721941062, 120776.67495411128]\n",
      "[180718.4030224542, 300935.704235296, 784029.7187895724]\n",
      "[219390.6886568531, 348530.9432514477, 2515134.352064721]\n",
      "[23214.195417768882, 168472.84523386238, 38737.45426408754, 54061.8824669467]\n",
      "[130959.35304549763, 309452.610729225, 430371.4531506927, 395579.6482440469]\n",
      "[178042.9260201132, 660421.6891912937, 875881.9982551386, 1043308.2994610139]\n",
      "[17986.49468639483, 119366.90915031006, 65871.85204865065, 122599.59441250398]\n",
      "[142449.10031342864, 277496.7327063806, 639188.0596916459, 410371.29069911846]\n",
      "[114471.99581571079, 397130.34845701803, 1054408.006767208, 986919.0904408188]\n",
      "[12543.899543681495, 96549.08721941062, 120776.67495411128, 156062.19066620644]\n",
      "[180718.4030224542, 300935.704235296, 784029.7187895724, 464874.5121179665]\n",
      "[219390.6886568531, 348530.9432514477, 2515134.352064721, 546906.7600214616]\n"
     ]
    }
   ],
   "source": [
    "for i in [0,2,4,5]:\n",
    "    train = aa.where(F.col('kmeans')==i)\n",
    "    lr = LinearRegression(featuresCol = \"features\", labelCol=\"score\", maxIter=10, regParam=0.03, elasticNetParam=0.8)\n",
    "    lrmodel = lr.fit(train)\n",
    "    \n",
    "    ##train\n",
    "    test = aa.where(F.col('kmeans')==i)\n",
    "    test_pred = lrmodel.transform(test)\n",
    "    test_pred = test_pred.withColumn('pred', when(F.col('prediction')<0,0).otherwise(F.col('prediction')))\n",
    "    \n",
    "    for label in range(1,5):\n",
    "        pred = test_pred.where(F.col('label')==label)\n",
    "        if int(pred.count())>0:\n",
    "            eval = RegressionEvaluator(labelCol=\"score\", predictionCol=\"pred\", metricName='rmse')\n",
    "            tr[label].append((int(pred.count())*(eval.evaluate(pred))**2))\n",
    "            print(tr[label])\n",
    "        else:\n",
    "            pass\n",
    "    ##test\n",
    "    test = bb.where(F.col('kmeans')==i)\n",
    "    test_pred = lrmodel.transform(test)\n",
    "    test_pred = test_pred.withColumn('pred', when(F.col('prediction')<0,0).otherwise(F.col('prediction')))\n",
    "    \n",
    "    for label in range(1,5):\n",
    "        pred = test_pred.where(F.col('label')==label)\n",
    "        if int(pred.count())>0:\n",
    "            eval = RegressionEvaluator(labelCol=\"score\", predictionCol=\"pred\", metricName='rmse')\n",
    "            te[label].append((int(pred.count())*(eval.evaluate(pred))**2))\n",
    "            print(te[label])\n",
    "        else:\n",
    "            pass\n",
    "    ##oot\n",
    "    test = cc.where(F.col('kmeans')==i)\n",
    "    test_pred = lrmodel.transform(test)\n",
    "    test_pred = test_pred.withColumn('pred', when(F.col('prediction')<0,0).otherwise(F.col('prediction')))\n",
    "    \n",
    "    for label in range(1,5):\n",
    "        pred = test_pred.where(F.col('label')==label)\n",
    "        if int(pred.count())>0:\n",
    "            eval = RegressionEvaluator(labelCol=\"score\", predictionCol=\"pred\", metricName='rmse')\n",
    "            va[label].append((int(pred.count())*(eval.evaluate(pred))**2))\n",
    "            print(va[label])\n",
    "        else:\n",
    "            pass\n",
    "#print((rmse/int(valid.count()))**0.5)"
   ]
  },
  {
   "cell_type": "code",
   "execution_count": 172,
   "metadata": {},
   "outputs": [],
   "source": [
    "trr = []\n",
    "tee = []\n",
    "vaa = []\n",
    "for i in range(1,5):\n",
    "    trr.append(np.sqrt(sum(tr[i])/int(aa.where(F.col('label')==i).count())))\n",
    "    tee.append(np.sqrt(sum(te[i])/int(bb.where(F.col('label')==i).count())))\n",
    "    vaa.append(np.sqrt(sum(va[i])/int(cc.where(F.col('label')==i).count())))"
   ]
  },
  {
   "cell_type": "code",
   "execution_count": 173,
   "metadata": {},
   "outputs": [],
   "source": [
    "trr.append(18.651423046829606)\n",
    "tee.append(18.75932130477061)\n",
    "vaa.append(19.94496056751909)"
   ]
  },
  {
   "cell_type": "code",
   "execution_count": 176,
   "metadata": {},
   "outputs": [
    {
     "data": {
      "text/html": [
       "<div>\n",
       "<style scoped>\n",
       "    .dataframe tbody tr th:only-of-type {\n",
       "        vertical-align: middle;\n",
       "    }\n",
       "\n",
       "    .dataframe tbody tr th {\n",
       "        vertical-align: top;\n",
       "    }\n",
       "\n",
       "    .dataframe thead th {\n",
       "        text-align: right;\n",
       "    }\n",
       "</style>\n",
       "<table border=\"1\" class=\"dataframe\">\n",
       "  <thead>\n",
       "    <tr style=\"text-align: right;\">\n",
       "      <th></th>\n",
       "      <th>train_kmeans</th>\n",
       "      <th>test_kmeans</th>\n",
       "      <th>oot_kmeans</th>\n",
       "      <th>train_lr</th>\n",
       "      <th>test_lr</th>\n",
       "      <th>oot_lr</th>\n",
       "    </tr>\n",
       "  </thead>\n",
       "  <tbody>\n",
       "    <tr>\n",
       "      <td>1</td>\n",
       "      <td>2.547410</td>\n",
       "      <td>3.000881</td>\n",
       "      <td>3.189961</td>\n",
       "      <td>8.273425</td>\n",
       "      <td>17.650896</td>\n",
       "      <td>17.122670</td>\n",
       "    </tr>\n",
       "    <tr>\n",
       "      <td>2</td>\n",
       "      <td>8.851515</td>\n",
       "      <td>10.060779</td>\n",
       "      <td>11.459232</td>\n",
       "      <td>10.790328</td>\n",
       "      <td>24.704183</td>\n",
       "      <td>35.937807</td>\n",
       "    </tr>\n",
       "    <tr>\n",
       "      <td>3</td>\n",
       "      <td>33.213005</td>\n",
       "      <td>34.096675</td>\n",
       "      <td>34.276127</td>\n",
       "      <td>24.189978</td>\n",
       "      <td>31.148594</td>\n",
       "      <td>33.332550</td>\n",
       "    </tr>\n",
       "    <tr>\n",
       "      <td>4</td>\n",
       "      <td>104.817331</td>\n",
       "      <td>98.900651</td>\n",
       "      <td>109.634594</td>\n",
       "      <td>83.953654</td>\n",
       "      <td>124.775643</td>\n",
       "      <td>142.387918</td>\n",
       "    </tr>\n",
       "    <tr>\n",
       "      <td>RMSE</td>\n",
       "      <td>18.651423</td>\n",
       "      <td>18.759321</td>\n",
       "      <td>19.944961</td>\n",
       "      <td>16.419285</td>\n",
       "      <td>27.777792</td>\n",
       "      <td>31.387734</td>\n",
       "    </tr>\n",
       "  </tbody>\n",
       "</table>\n",
       "</div>"
      ],
      "text/plain": [
       "      train_kmeans  test_kmeans  oot_kmeans   train_lr     test_lr      oot_lr\n",
       "1         2.547410     3.000881    3.189961   8.273425   17.650896   17.122670\n",
       "2         8.851515    10.060779   11.459232  10.790328   24.704183   35.937807\n",
       "3        33.213005    34.096675   34.276127  24.189978   31.148594   33.332550\n",
       "4       104.817331    98.900651  109.634594  83.953654  124.775643  142.387918\n",
       "RMSE     18.651423    18.759321   19.944961  16.419285   27.777792   31.387734"
      ]
     },
     "execution_count": 176,
     "metadata": {},
     "output_type": "execute_result"
    }
   ],
   "source": [
    "rmse_dict = dict()\n",
    "rmse_dict['train_kmeans']=trr\n",
    "\n",
    "rmse_dict['test_kmeans']=tee\n",
    "\n",
    "rmse_dict['oot_kmeans']=vaa\n",
    "rmse_dict['train_lr']=train_lr\n",
    "rmse_dict['test_lr']=test_lr\n",
    "rmse_dict['oot_lr']=oot_lr\n",
    "\n",
    "import pandas as pd\n",
    "df = pd.DataFrame(rmse_dict, index=[1,2,3,4,'RMSE'])\n",
    "df"
   ]
  },
  {
   "cell_type": "code",
   "execution_count": 257,
   "metadata": {},
   "outputs": [
    {
     "data": {
      "image/png": "[encoded data removed]",
      "text/plain": [
       "<Figure size 432x288 with 1 Axes>"
      ]
     },
     "metadata": {
      "needs_background": "light"
     },
     "output_type": "display_data"
    }
   ],
   "source": [
    "plt.plot([1, 2, 3, 4], trr, label='train')\n",
    "plt.plot([1, 2, 3, 4], tee, label='test')\n",
    "plt.plot([1, 2, 3, 4], vaa, label='oot')\n",
    "plt.xlabel('Label')\n",
    "plt.ylabel('RMSE')\n",
    "plt.title('RMSE at each label')\n",
    "plt.legend()\n",
    "plt.show()"
   ]
  },
  {
   "cell_type": "code",
   "execution_count": null,
   "metadata": {},
   "outputs": [],
   "source": []
  },
  {
   "cell_type": "code",
   "execution_count": 178,
   "metadata": {},
   "outputs": [
    {
     "data": {
      "text/plain": [
       "3.7139030946268496"
      ]
     },
     "execution_count": 178,
     "metadata": {},
     "output_type": "execute_result"
    }
   ],
   "source": [
    "import numpy as np\n",
    "np.sqrt(sum(rmse[1])/int(cc.where(F.col('label')==1).count()))"
   ]
  },
  {
   "cell_type": "code",
   "execution_count": 180,
   "metadata": {},
   "outputs": [
    {
     "data": {
      "text/plain": [
       "11.6439721057355"
      ]
     },
     "execution_count": 180,
     "metadata": {},
     "output_type": "execute_result"
    }
   ],
   "source": [
    "np.sqrt(sum(rmse[2])/int(cc.where(F.col('label')==2).count()))"
   ]
  },
  {
   "cell_type": "code",
   "execution_count": 181,
   "metadata": {},
   "outputs": [
    {
     "data": {
      "text/plain": [
       "34.27612742388009"
      ]
     },
     "execution_count": 181,
     "metadata": {},
     "output_type": "execute_result"
    }
   ],
   "source": [
    "np.sqrt(sum(rmse[3])/int(cc.where(F.col('label')==3).count()))"
   ]
  },
  {
   "cell_type": "code",
   "execution_count": 182,
   "metadata": {},
   "outputs": [
    {
     "data": {
      "text/plain": [
       "109.63459392642542"
      ]
     },
     "execution_count": 182,
     "metadata": {},
     "output_type": "execute_result"
    }
   ],
   "source": [
    "np.sqrt(sum(rmse[4])/int(cc.where(F.col('label')==4).count()))"
   ]
  },
  {
   "cell_type": "code",
   "execution_count": 203,
   "metadata": {},
   "outputs": [
    {
     "data": {
      "text/plain": [
       "48350.58249728416"
      ]
     },
     "execution_count": 203,
     "metadata": {},
     "output_type": "execute_result"
    }
   ],
   "source": [
    "#np.sqrt((sum(rmse[1])+sum(rmse[2])+sum(rmse[3])+sum(rmse[4]))/14701)\n",
    "tr_rmse"
   ]
  },
  {
   "cell_type": "code",
   "execution_count": 200,
   "metadata": {},
   "outputs": [
    {
     "data": {
      "text/plain": [
       "[4.172565469623959, 11.8258264246659, 34.27612742388009, 109.63459392642542]"
      ]
     },
     "execution_count": 200,
     "metadata": {},
     "output_type": "execute_result"
    }
   ],
   "source": [
    "va"
   ]
  },
  {
   "cell_type": "code",
   "execution_count": null,
   "metadata": {},
   "outputs": [],
   "source": []
  }
 ],
 "metadata": {
  "kernelspec": {
   "display_name": "Python 3",
   "language": "python",
   "name": "python3"
  },
  "language_info": {
   "codemirror_mode": {
    "name": "ipython",
    "version": 3
   },
   "file_extension": ".py",
   "mimetype": "text/x-python",
   "name": "python",
   "nbconvert_exporter": "python",
   "pygments_lexer": "ipython3",
   "version": "3.7.3"
  }
 },
 "nbformat": 4,
 "nbformat_minor": 2
}
